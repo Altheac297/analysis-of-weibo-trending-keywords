{
 "cells": [
  {
   "cell_type": "code",
   "execution_count": 32,
   "metadata": {
    "collapsed": true,
    "pycharm": {
     "name": "#%%\n"
    }
   },
   "outputs": [],
   "source": [
    "import pandas as pd\n",
    "import numpy as np\n",
    "from sklearn.metrics import confusion_matrix\n",
    "import seaborn as sns\n",
    "import matplotlib.pyplot as plt\n",
    "import lightgbm as lgb\n",
    "from sklearn.metrics import accuracy_score\n",
    "from sklearn.preprocessing import LabelEncoder, StandardScaler\n",
    "from sklearn.model_selection import train_test_split"
   ]
  },
  {
   "cell_type": "code",
   "execution_count": 33,
   "outputs": [
    {
     "name": "stdout",
     "output_type": "stream",
     "text": [
      "   分类         热度  上榜时间  levelnchar  sentimentlevel\n",
      "0   1  3469652.0   203           2               1\n",
      "1   2  3396691.0    69           5               2\n",
      "2   3  3365924.0    42           3               1\n",
      "3   1  3362505.0   167           1               3\n",
      "4   4  3159712.0    28           3               1\n"
     ]
    }
   ],
   "source": [
    "work_data = pd.read_csv(r\"E:\\课题\\2023暑期科研\\data-algo\\work_data.csv\")\n",
    "# 删除列\n",
    "work_data = work_data.iloc[:, 1:]\n",
    "\n",
    "# 将分类重新编码为1到16\n",
    "lgbm_data = work_data.drop(columns=[\"名称\", \"日期\"])\n",
    "lgbm_data[\"分类\"] = pd.factorize(lgbm_data[\"分类\"])[0] + 1\n",
    "lgbm_data[\"sentimentlevel\"] = pd.factorize(lgbm_data[\"sentimentlevel\"])[0] + 1\n",
    "\n",
    "print(lgbm_data.head())"
   ],
   "metadata": {
    "collapsed": false,
    "pycharm": {
     "name": "#%%\n"
    }
   }
  },
  {
   "cell_type": "code",
   "execution_count": 34,
   "outputs": [
    {
     "name": "stdout",
     "output_type": "stream",
     "text": [
      "174719.8\n",
      "673648.6043193518\n"
     ]
    }
   ],
   "source": [
    "X = lgbm_data.drop(columns=['热度'])\n",
    "y = lgbm_data['热度']  # 目标\n",
    "\n",
    "# 热度划分等级\n",
    "threshold_low = np.quantile(y, 0.15)\n",
    "print(threshold_low)\n",
    "threshold_high = np.mean(y)\n",
    "print(threshold_high)\n",
    "\n",
    "y = np.where(y < threshold_low, 'low', np.where(y > threshold_high, 'high', 'medium'))\n",
    "encoder = LabelEncoder()\n",
    "labels = encoder.fit_transform(y)"
   ],
   "metadata": {
    "collapsed": false,
    "pycharm": {
     "name": "#%%\n"
    }
   }
  },
  {
   "cell_type": "code",
   "execution_count": 36,
   "outputs": [
    {
     "name": "stdout",
     "output_type": "stream",
     "text": [
      "[[-0.62868231  1.56453792  0.89603681 -1.48289591]\n",
      " [ 0.16481785  1.37449845 -0.11962332  1.24647353]\n",
      " [-0.62868231  1.1030135  -0.11962332 -1.48289591]\n",
      " ...\n",
      " [-0.62868231 -0.60734172  0.89603681 -0.11821119]\n",
      " [ 2.28081829 -0.85710787 -1.13528345 -1.48289591]\n",
      " [ 0.95831802 -0.21097368 -2.15094358  1.24647353]]\n"
     ]
    }
   ],
   "source": [
    "# 数据归一化 (使用Z-score标准化)\n",
    "scaler = StandardScaler()\n",
    "X_scaled = scaler.fit_transform(X)\n",
    "\n",
    "# 划分训练集和测试集\n",
    "X_train, X_test, y_train, y_test = train_test_split(X_scaled, labels, test_size=0.2, random_state=999)\n",
    "print(X_train)"
   ],
   "metadata": {
    "collapsed": false,
    "pycharm": {
     "name": "#%%\n"
    }
   }
  },
  {
   "cell_type": "code",
   "execution_count": 50,
   "outputs": [],
   "source": [
    "# 使用LightGBM\n",
    "train_data = lgb.Dataset(X_train, label=y_train)\n",
    "test_data = lgb.Dataset(X_test, label=y_test)\n",
    "\n",
    "params = {\n",
    "    'objective': 'multiclass',\n",
    "    'num_class': 3,\n",
    "    'metric': 'multi_logloss',\n",
    "    'boosting_type': 'gbdt'\n",
    "}\n"
   ],
   "metadata": {
    "collapsed": false,
    "pycharm": {
     "name": "#%%\n"
    }
   }
  },
  {
   "cell_type": "code",
   "execution_count": 51,
   "outputs": [
    {
     "name": "stdout",
     "output_type": "stream",
     "text": [
      "[LightGBM] [Info] Auto-choosing row-wise multi-threading, the overhead of testing was 0.002335 seconds.\n",
      "You can set `force_row_wise=true` to remove the overhead.\n",
      "And if memory is not enough, you can set `force_col_wise=true`.\n",
      "[LightGBM] [Info] Total Bins 282\n",
      "[LightGBM] [Info] Number of data points in the train set: 252371, number of used features: 4\n",
      "[LightGBM] [Info] Start training from score -1.314235\n",
      "[LightGBM] [Info] Start training from score -1.897031\n",
      "[LightGBM] [Info] Start training from score -0.542476\n"
     ]
    }
   ],
   "source": [
    "bst = lgb.train(params, train_data, valid_sets=[test_data], num_boost_round=50)\n"
   ],
   "metadata": {
    "collapsed": false,
    "pycharm": {
     "name": "#%%\n"
    }
   }
  },
  {
   "cell_type": "code",
   "execution_count": 52,
   "outputs": [],
   "source": [
    "preds = bst.predict(X_test)"
   ],
   "metadata": {
    "collapsed": false,
    "pycharm": {
     "name": "#%%\n"
    }
   }
  },
  {
   "cell_type": "code",
   "execution_count": 53,
   "outputs": [],
   "source": [
    "pred_labels = encoder.inverse_transform(np.argmax(preds, axis=1))\n",
    "y_test_labels = encoder.inverse_transform(y_test)"
   ],
   "metadata": {
    "collapsed": false,
    "pycharm": {
     "name": "#%%\n"
    }
   }
  },
  {
   "cell_type": "code",
   "execution_count": 54,
   "outputs": [
    {
     "data": {
      "text/plain": "<Figure size 800x600 with 2 Axes>",
      "image/png": "[encoded data removed]"
     },
     "metadata": {},
     "output_type": "display_data"
    }
   ],
   "source": [
    "# 构建混淆矩阵\n",
    "conf_matrix = confusion_matrix(y_test_labels, pred_labels)\n",
    "\n",
    "# 使用Seaborn可视化混淆矩阵\n",
    "plt.figure(figsize=(8, 6))\n",
    "ax = sns.heatmap(conf_matrix, annot=True, fmt='d', cmap='Blues',\n",
    "                 xticklabels=['low', 'medium', 'high'], yticklabels=['low', 'medium', 'high'])\n",
    "plt.xlabel('Predicted Labels')\n",
    "plt.ylabel('True Labels')\n",
    "\n",
    "# 将 x 轴标签置于图像上方\n",
    "ax.xaxis.set_ticks_position('top')\n",
    "ax.xaxis.set_label_position('top')\n",
    "plt.text(0.5, -0.1, 'Confusion Matrix', fontsize=12, ha='center', va='center', transform=ax.transAxes)\n",
    "plt.show()"
   ],
   "metadata": {
    "collapsed": false,
    "pycharm": {
     "name": "#%%\n"
    }
   }
  },
  {
   "cell_type": "code",
   "execution_count": 55,
   "outputs": [
    {
     "name": "stdout",
     "output_type": "stream",
     "text": [
      "总体 Accuracy: 0.65\n",
      "每个类别的 Accuracy:\n",
      "0: 0.40\n",
      "1: 0.38\n",
      "2: 0.84\n"
     ]
    }
   ],
   "source": [
    "# 总体 Accuracy 计算\n",
    "total_accuracy = np.diag(conf_matrix).sum() / conf_matrix.sum()\n",
    "print(f\"总体 Accuracy: {total_accuracy:.2f}\")\n",
    "\n",
    "# 每个类别的 Accuracy 计算\n",
    "class_accuracy = np.diag(conf_matrix) / conf_matrix.sum(axis=1)\n",
    "print(\"每个类别的 Accuracy:\")\n",
    "for idx, acc in enumerate(class_accuracy):\n",
    "    print(f\"{idx}: {acc:.2f}\")"
   ],
   "metadata": {
    "collapsed": false,
    "pycharm": {
     "name": "#%%\n"
    }
   }
  },
  {
   "cell_type": "code",
   "execution_count": null,
   "outputs": [],
   "source": [],
   "metadata": {
    "collapsed": false,
    "pycharm": {
     "name": "#%%\n"
    }
   }
  }
 ],
 "metadata": {
  "kernelspec": {
   "display_name": "Python 3",
   "language": "python",
   "name": "python3"
  },
  "language_info": {
   "codemirror_mode": {
    "name": "ipython",
    "version": 2
   },
   "file_extension": ".py",
   "mimetype": "text/x-python",
   "name": "python",
   "nbconvert_exporter": "python",
   "pygments_lexer": "ipython2",
   "version": "2.7.6"
  }
 },
 "nbformat": 4,
 "nbformat_minor": 0
}